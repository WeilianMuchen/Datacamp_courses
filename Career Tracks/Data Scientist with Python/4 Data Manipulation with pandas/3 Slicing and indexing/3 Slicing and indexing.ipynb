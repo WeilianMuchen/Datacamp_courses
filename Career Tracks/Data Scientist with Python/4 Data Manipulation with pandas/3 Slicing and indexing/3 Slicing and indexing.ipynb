{
 "cells": [
  {
   "cell_type": "code",
   "execution_count": null,
   "metadata": {},
   "outputs": [],
   "source": [
    "### Author: WeilainMuchen"
   ]
  },
  {
   "cell_type": "code",
   "execution_count": null,
   "metadata": {},
   "outputs": [],
   "source": [
    "### Explicit indexes"
   ]
  },
  {
   "cell_type": "code",
   "execution_count": null,
   "metadata": {},
   "outputs": [],
   "source": [
    "## Setting & removing indexes\n",
    "'''\n",
    "· Look at temperatures.\n",
    "· Set the index of temperatures to \"city\", assigning to temperatures_ind.\n",
    "· Look at temperatures_ind. How is it different from temperatures?\n",
    "· Reset the index of temperatures_ind, keeping its contents.\n",
    "· Reset the index of temperatures_ind, dropping its contents.\n",
    "'''\n",
    "# Look at temperatures\n",
    "print(temperatures)\n",
    "\n",
    "# Index temperatures by city\n",
    "temperatures_ind = temperatures.set_index(\"city\")\n",
    "\n",
    "# Look at temperatures_ind\n",
    "print(temperatures_ind)\n",
    "\n",
    "# Reset the index, keeping its contents\n",
    "print(temperatures_ind.reset_index())\n",
    "\n",
    "# Reset the index, dropping its contents\n",
    "print(temperatures_ind.reset_index(drop=True))"
   ]
  },
  {
   "cell_type": "code",
   "execution_count": null,
   "metadata": {},
   "outputs": [],
   "source": [
    "## Subsetting with .loc[]\n",
    "'''\n",
    "· Create a list of cities to subset on: Moscow and Saint Petersburg. Assign to cities.\n",
    "· Use [] subsetting to filter temperatures for rows where the city column takes a value in cities.\n",
    "· Use .loc[] subsetting to filter temperatures_ind for rows where the city is in cities.\n",
    "'''\n",
    "# Make a list of cities to subset on\n",
    "cities = [\"Moscow\", \"Saint Petersburg\"]\n",
    "\n",
    "# Subset temperatures using square brackets\n",
    "print(temperatures[temperatures[\"city\"].isin(cities)])\n",
    "\n",
    "# Subset temperatures_ind using .loc[]\n",
    "print(temperatures_ind.loc[cities])"
   ]
  },
  {
   "cell_type": "code",
   "execution_count": null,
   "metadata": {},
   "outputs": [],
   "source": [
    "## Setting multi-level indexes\n",
    "'''\n",
    "· Set the index of temperatures to the \"country\" and \"city\" columns, and assign this to temperatures_ind.\n",
    "· Specify two country/city pairs to keep: \"Brazil\"/\"Rio De Janeiro\" and \"Pakistan\"/\"Lahore\", assigning to rows_to_keep.\n",
    "· Print and subset temperatures_ind for rows_to_keep using .loc[].\n",
    "'''\n",
    "# Index temperatures by country & city\n",
    "temperatures_ind = temperatures.set_index([\"country\", \"city\"])\n",
    "\n",
    "# List of tuples: Brazil, Rio De Janeiro & Pakistan, Lahore\n",
    "rows_to_keep = [(\"Brazil\", \"Rio De Janeiro\"), (\"Pakistan\", \"Lahore\")]\n",
    "\n",
    "# Subset for rows to keep\n",
    "print(temperatures_ind.loc[rows_to_keep])"
   ]
  },
  {
   "cell_type": "code",
   "execution_count": null,
   "metadata": {},
   "outputs": [],
   "source": [
    "## Sorting by index values\n",
    "'''\n",
    "· Sort temperatures_ind by the index values.\n",
    "· Sort temperatures_ind by the index values at the \"city\" level.\n",
    "· Sort temperatures_ind by ascending country then descending city.\n",
    "'''\n",
    "# Sort temperatures_ind by index values\n",
    "print(temperatures_ind.sort_index())\n",
    "\n",
    "# Sort temperatures_ind by index values at the city level\n",
    "print(temperatures_ind.sort_index(level=\"city\"))\n",
    "\n",
    "# Sort temperatures_ind by country then descending city\n",
    "print(temperatures_ind.sort_index(level=[\"country\", \"city\"], ascending = [True, False]))"
   ]
  },
  {
   "cell_type": "code",
   "execution_count": null,
   "metadata": {},
   "outputs": [],
   "source": [
    "### Slicing and subsetting with .loc and .iloc"
   ]
  },
  {
   "cell_type": "code",
   "execution_count": null,
   "metadata": {},
   "outputs": [],
   "source": [
    "## Slicing index values\n",
    "'''\n",
    "· Sort the index of temperatures_ind.\n",
    "· Use slicing with .loc[] to get these subsets:\n",
    "  · from Pakistan to Russia.\n",
    "  · from Lahore to Moscow. (This will return nonsense.)\n",
    "  · from Pakistan, Lahore to Russia, Moscow.\n",
    "'''\n",
    "# Sort the index of temperatures_ind\n",
    "temperatures_srt = temperatures_ind.sort_index()\n",
    "\n",
    "# Subset rows from Pakistan to Russia\n",
    "print(temperatures_srt.loc[\"Pakistan\":\"Russia\"])\n",
    "\n",
    "# Try to subset rows from Lahore to Moscow\n",
    "print(temperatures_srt.loc[\"Lahore\":\"Moscow\"])\n",
    "\n",
    "# Subset rows from Pakistan, Lahore to Russia, Moscow\n",
    "print(temperatures_srt.loc[(\"Pakistan\", \"Lahore\"):(\"Russia\", \"Moscow\")])"
   ]
  },
  {
   "cell_type": "code",
   "execution_count": null,
   "metadata": {},
   "outputs": [],
   "source": [
    "## Slicing in both directions\n",
    "'''\n",
    "· Use .loc[] slicing to subset rows from India, Hyderabad to Iraq, Baghdad.\n",
    "· Use .loc[] slicing to subset columns from date to avg_temp_c.\n",
    "· Slice in both directions at once from Hyderabad to Baghdad, and date to avg_temp_c.\n",
    "'''\n",
    "# Subset rows from India, Hyderabad to Iraq, Baghdad\n",
    "print(temperatures_srt.loc[(\"India\", \"Hyderabad\"):(\"Iraq\", \"Baghdad\")])\n",
    "\n",
    "# Subset columns from date to avg_temp_c\n",
    "print(temperatures_srt.loc[:, \"date\":\"avg_temp_c\"])\n",
    "\n",
    "# Subset in both directions at once\n",
    "print(temperatures_srt.loc[(\"India\", \"Hyderabad\"):(\"Iraq\", \"Baghdad\"), \"date\":\"avg_temp_c\"])"
   ]
  },
  {
   "cell_type": "code",
   "execution_count": null,
   "metadata": {},
   "outputs": [],
   "source": [
    "## Slicing time series\n",
    "'''\n",
    "· Use Boolean conditions (not .isin() or .loc[]) to subset for rows in 2010 and 2011, and print the results.\n",
    "· Note that because the date isn't set as an index, a condition that contains only a year, such as df[\"date\"] == \"2009\", will check if the date is equal to the first day of the first month of the year (e.g. 2009-01-01), rather than checking whether the date occurs within the given year. We recommend writing out the full date when using Boolean conditions (e.g. 2009-12-31).\n",
    "  · Set the index to the date column.\n",
    "· Use .loc[] to subset for rows in 2010 and 2011.\n",
    "· Use .loc[] to subset for rows from Aug 2010 to Feb 2011.\n",
    "'''\n",
    "# Use Boolean conditions to subset temperatures for rows in 2010 and 2011\n",
    "temperatures_bool = temperatures[(temperatures[\"date\"] >= \"2010-01-01\") & (temperatures[\"date\"] <= \"2011-12-31\")]\n",
    "print(temperatures_bool)\n",
    "\n",
    "# Set date as an index\n",
    "temperatures_ind = temperatures.set_index(\"date\")\n",
    "\n",
    "# Use .loc[] to subset temperatures_ind for rows in 2010 and 2011\n",
    "print(temperatures_ind.loc[\"2010\":\"2011\"])\n",
    "\n",
    "# Use .loc[] to subset temperatures_ind for rows from Aug 2010 to Feb 2011\n",
    "print(temperatures_ind.loc[\"2010-08\":\"2011-02\"])"
   ]
  },
  {
   "cell_type": "code",
   "execution_count": null,
   "metadata": {},
   "outputs": [],
   "source": [
    "## Subsetting by row/column number\n",
    "'''\n",
    "Use .iloc[] on temperatures to take subsets.\n",
    "· Get the 23rd row, 2nd column (index positions 22 and 1).\n",
    "· Get the first 5 rows (index positions 0 to 5).\n",
    "· Get all rows, columns 3 and 4 (index positions 2 to 4).\n",
    "· Get the first 5 rows, columns 3 and 4.\n",
    "'''\n",
    "# Get 23rd row, 2nd column (index 22, 1)\n",
    "print(temperatures.iloc[22, 1])\n",
    "\n",
    "# Use slicing to get the first 5 rows\n",
    "print(temperatures.iloc[:5])\n",
    "\n",
    "# Use slicing to get columns 3 to 4\n",
    "print(temperatures.iloc[:, 2:4])\n",
    "\n",
    "# Use slicing in both directions at once\n",
    "print(temperatures.iloc[:5, 2:4])"
   ]
  },
  {
   "cell_type": "code",
   "execution_count": null,
   "metadata": {},
   "outputs": [],
   "source": [
    "### Working with pivot tables"
   ]
  },
  {
   "cell_type": "code",
   "execution_count": null,
   "metadata": {},
   "outputs": [],
   "source": [
    "## Pivot temperature by city and year\n",
    "'''\n",
    "· Add a year column to temperatures, from the year component of the date column.\n",
    "· Make a pivot table of the avg_temp_c column, with country and city as rows, and year as columns. Assign to temp_by_country_city_vs_year, and look at the result.\n",
    "'''\n",
    "# Add a year column to temperatures\n",
    "temperatures[\"year\"] = temperatures[\"date\"].dt.year\n",
    "\n",
    "# Pivot avg_temp_c by country and city vs year\n",
    "temp_by_country_city_vs_year = temperatures.pivot_table(\"avg_temp_c\", index = [\"country\", \"city\"], columns = \"year\")\n",
    "\n",
    "# See the result\n",
    "print(temp_by_country_city_vs_year)"
   ]
  },
  {
   "cell_type": "code",
   "execution_count": null,
   "metadata": {},
   "outputs": [],
   "source": [
    "## Subsetting pivot tables\n",
    "'''\n",
    "Use .loc[] on temp_by_country_city_vs_year to take subsets.\n",
    "· From Egypt to India.\n",
    "· From Egypt, Cairo to India, Delhi.\n",
    "· From Egypt, Cairo to India, Delhi and 2005 to 2010.\n",
    "'''\n",
    "# Subset for Egypt to India\n",
    "temp_by_country_city_vs_year.loc[\"Egypt\":\"India\"]\n",
    "\n",
    "# Subset for Egypt, Cairo to India, Delhi\n",
    "temp_by_country_city_vs_year.loc[(\"Egypt\", \"Cairo\"):(\"India\", \"Delhi\")]\n",
    "\n",
    "# Subset in both directions at once\n",
    "temp_by_country_city_vs_year.loc[(\"Egypt\", \"Cairo\"):(\"India\", \"Delhi\"), \"2005\":\"2010\"]"
   ]
  },
  {
   "cell_type": "code",
   "execution_count": null,
   "metadata": {},
   "outputs": [],
   "source": [
    "## Calculating on a pivot table\n",
    "'''\n",
    "· Calculate the mean temperature for each year, assigning to mean_temp_by_year.\n",
    "· Filter mean_temp_by_year for the year that had the highest mean temperature.\n",
    "· Calculate the mean temperature for each city (across columns), assigning to mean_temp_by_city.\n",
    "· Filter mean_temp_by_city for the city that had the lowest mean temperature.\n",
    "'''\n",
    "# Get the worldwide mean temp by year\n",
    "mean_temp_by_year = temp_by_country_city_vs_year.mean()\n",
    "\n",
    "# Find the year that had the highest mean temp\n",
    "print(mean_temp_by_year[mean_temp_by_year == mean_temp_by_year.max()])\n",
    "\n",
    "# Get the mean temp by city\n",
    "mean_temp_by_city = temp_by_country_city_vs_year.mean(axis=\"columns\")\n",
    "\n",
    "# Find the city that had the lowest mean temp\n",
    "print(mean_temp_by_city[mean_temp_by_city == mean_temp_by_city.min()])"
   ]
  }
 ],
 "metadata": {
  "kernelspec": {
   "display_name": "Python 3",
   "language": "python",
   "name": "python3"
  },
  "language_info": {
   "codemirror_mode": {
    "name": "ipython",
    "version": 3
   },
   "file_extension": ".py",
   "mimetype": "text/x-python",
   "name": "python",
   "nbconvert_exporter": "python",
   "pygments_lexer": "ipython3",
   "version": "3.7.6"
  }
 },
 "nbformat": 4,
 "nbformat_minor": 4
}
